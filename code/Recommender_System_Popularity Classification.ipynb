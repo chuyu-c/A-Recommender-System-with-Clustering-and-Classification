{
 "cells": [
  {
   "cell_type": "code",
   "execution_count": 1,
   "metadata": {},
   "outputs": [
    {
     "name": "stdout",
     "output_type": "stream",
     "text": [
      "C:\\Users\\Nicole\\Desktop\\31008DMP\\dataset\n"
     ]
    }
   ],
   "source": [
    "cd C:\\Users\\Nicole\\Desktop\\31008DMP\\dataset"
   ]
  },
  {
   "cell_type": "code",
   "execution_count": 2,
   "metadata": {},
   "outputs": [],
   "source": [
    "import random\n",
    "import numpy as np\n",
    "import pandas as pd\n",
    "from sklearn.base import clone\n",
    "from sklearn.model_selection import train_test_split\n",
    "from sklearn.tree import DecisionTreeClassifier\n",
    "from sklearn.ensemble import RandomForestClassifier\n",
    "import xgboost as xgb\n",
    "from sklearn.linear_model import LogisticRegression\n",
    "from sklearn.model_selection import GridSearchCV\n",
    "from sklearn.metrics import accuracy_score\n",
    "from sklearn.metrics import plot_confusion_matrix\n",
    "from sklearn.metrics import classification_report, confusion_matrix\n",
    "\n",
    "# Data visualization\n",
    "import matplotlib.pyplot as plt\n",
    "import seaborn as sns"
   ]
  },
  {
   "cell_type": "code",
   "execution_count": 3,
   "metadata": {},
   "outputs": [
    {
     "data": {
      "text/plain": [
       "(234372, 49)"
      ]
     },
     "execution_count": 3,
     "metadata": {},
     "output_type": "execute_result"
    }
   ],
   "source": [
    "raw_df = pd.read_csv('data_final_popularity.csv')\n",
    "raw_df.shape"
   ]
  },
  {
   "cell_type": "code",
   "execution_count": 4,
   "metadata": {},
   "outputs": [],
   "source": [
    "col_to_exclude = ['artist_song_id', 'artists', 'artist_name', 'id', 'name', 'year']\n",
    "col_to_dummy = ['period', 'num_artists_grp']\n",
    "target_var = 'popularity_target'"
   ]
  },
  {
   "cell_type": "code",
   "execution_count": 5,
   "metadata": {},
   "outputs": [
    {
     "data": {
      "text/plain": [
       "Index(['artists', 'id', 'name', 'artist_name', 'num_artists_grp', 'period',\n",
       "       'artist_song_id'],\n",
       "      dtype='object')"
      ]
     },
     "execution_count": 5,
     "metadata": {},
     "output_type": "execute_result"
    }
   ],
   "source": [
    "raw_df.select_dtypes(include=['object']).columns"
   ]
  },
  {
   "cell_type": "code",
   "execution_count": 6,
   "metadata": {},
   "outputs": [
    {
     "data": {
      "text/plain": [
       "1    64041\n",
       "4    55916\n",
       "2    40608\n",
       "3    40160\n",
       "5    33647\n",
       "Name: popularity_target, dtype: int64"
      ]
     },
     "execution_count": 6,
     "metadata": {},
     "output_type": "execute_result"
    }
   ],
   "source": [
    "raw_df[target_var].value_counts()"
   ]
  },
  {
   "cell_type": "markdown",
   "metadata": {},
   "source": [
    "Data Prep"
   ]
  },
  {
   "cell_type": "code",
   "execution_count": 7,
   "metadata": {
    "scrolled": true
   },
   "outputs": [
    {
     "data": {
      "text/plain": [
       "acousticness                0\n",
       "artists                     0\n",
       "danceability                0\n",
       "duration_ms                 0\n",
       "energy                      0\n",
       "explicit                    0\n",
       "id                          0\n",
       "instrumentalness            0\n",
       "key                         0\n",
       "liveness                    0\n",
       "loudness                    0\n",
       "mode                        0\n",
       "name                        0\n",
       "speechiness                 0\n",
       "tempo                       0\n",
       "valence                     0\n",
       "year                        0\n",
       "artist_name                12\n",
       "num_artists_grp             0\n",
       "songname_noneng             0\n",
       "num_words_in_songname       0\n",
       "period                      0\n",
       "artist_song_id              0\n",
       "acousticness_year           0\n",
       "danceability_year           0\n",
       "duration_ms_year            0\n",
       "energy_year                 0\n",
       "instrumentalness_year       0\n",
       "liveness_year               0\n",
       "loudness_year               0\n",
       "speechiness_year            0\n",
       "tempo_year                  0\n",
       "valence_year                0\n",
       "key_year                    0\n",
       "mode_year                   0\n",
       "acousticness_artist         0\n",
       "danceability_artist         0\n",
       "duration_ms_artist          0\n",
       "energy_artist               0\n",
       "instrumentalness_artist     0\n",
       "liveness_artist             0\n",
       "loudness_artist             0\n",
       "speechiness_artist          0\n",
       "tempo_artist                0\n",
       "valence_artist              0\n",
       "key_artist                  0\n",
       "mode_artist                 0\n",
       "count_artist                0\n",
       "popularity_target           0\n",
       "dtype: int64"
      ]
     },
     "execution_count": 7,
     "metadata": {},
     "output_type": "execute_result"
    }
   ],
   "source": [
    "raw_df.isna().sum()"
   ]
  },
  {
   "cell_type": "code",
   "execution_count": 8,
   "metadata": {},
   "outputs": [
    {
     "data": {
      "text/plain": [
       "(234360, 49)"
      ]
     },
     "execution_count": 8,
     "metadata": {},
     "output_type": "execute_result"
    }
   ],
   "source": [
    "raw_df = raw_df.dropna(subset=['artist_name'], axis=0)\n",
    "raw_df.shape"
   ]
  },
  {
   "cell_type": "markdown",
   "metadata": {},
   "source": [
    "     "
   ]
  },
  {
   "cell_type": "markdown",
   "metadata": {},
   "source": [
    "Get Dummies"
   ]
  },
  {
   "cell_type": "code",
   "execution_count": 9,
   "metadata": {},
   "outputs": [
    {
     "data": {
      "text/plain": [
       "(234360, 56)"
      ]
     },
     "execution_count": 9,
     "metadata": {},
     "output_type": "execute_result"
    }
   ],
   "source": [
    "ohe_df = pd.get_dummies(raw_df, columns=col_to_dummy)\n",
    "ohe_df.shape"
   ]
  },
  {
   "cell_type": "markdown",
   "metadata": {},
   "source": [
    "   "
   ]
  },
  {
   "cell_type": "markdown",
   "metadata": {},
   "source": [
    "Data Splitting"
   ]
  },
  {
   "cell_type": "code",
   "execution_count": 10,
   "metadata": {},
   "outputs": [
    {
     "data": {
      "text/plain": [
       "'popularity_target'"
      ]
     },
     "execution_count": 10,
     "metadata": {},
     "output_type": "execute_result"
    }
   ],
   "source": [
    "target_var"
   ]
  },
  {
   "cell_type": "code",
   "execution_count": 11,
   "metadata": {},
   "outputs": [],
   "source": [
    "X = ohe_df[ohe_df.columns.drop(col_to_exclude+[target_var])]\n",
    "Y = ohe_df[target_var]\n",
    "X_train, X_test, y_train, y_test = train_test_split(X, Y, stratify=Y, test_size=0.25, random_state=621)"
   ]
  },
  {
   "cell_type": "code",
   "execution_count": 12,
   "metadata": {},
   "outputs": [
    {
     "data": {
      "text/plain": [
       "[(175770, 49), (58590, 49), (175770,), (58590,)]"
      ]
     },
     "execution_count": 12,
     "metadata": {},
     "output_type": "execute_result"
    }
   ],
   "source": [
    "[X_train.shape, X_test.shape, y_train.shape, y_test.shape]"
   ]
  },
  {
   "cell_type": "code",
   "execution_count": 13,
   "metadata": {},
   "outputs": [
    {
     "data": {
      "text/plain": [
       "1    16007\n",
       "4    13979\n",
       "2    10152\n",
       "3    10040\n",
       "5     8412\n",
       "Name: popularity_target, dtype: int64"
      ]
     },
     "execution_count": 13,
     "metadata": {},
     "output_type": "execute_result"
    }
   ],
   "source": [
    "y_test.value_counts()"
   ]
  },
  {
   "cell_type": "code",
   "execution_count": null,
   "metadata": {},
   "outputs": [],
   "source": []
  },
  {
   "cell_type": "code",
   "execution_count": null,
   "metadata": {},
   "outputs": [],
   "source": []
  },
  {
   "cell_type": "code",
   "execution_count": null,
   "metadata": {},
   "outputs": [],
   "source": []
  },
  {
   "cell_type": "code",
   "execution_count": 14,
   "metadata": {},
   "outputs": [],
   "source": [
    "#X_train.to_csv('x_train_popularity.csv', index=False)\n",
    "#X_test.to_csv('x_test_popularity.csv', index=False)\n",
    "#y_train.to_csv('y_train_popularity.csv', index=False)\n",
    "#y_test.to_csv('y_test_popularity.csv', index=False)"
   ]
  },
  {
   "cell_type": "markdown",
   "metadata": {},
   "source": [
    "    "
   ]
  },
  {
   "cell_type": "markdown",
   "metadata": {},
   "source": [
    "### Ordinal Multi-classification Modeling"
   ]
  },
  {
   "cell_type": "markdown",
   "metadata": {},
   "source": [
    "- model1: Pr(Target > 1)\n",
    "- model2: Pr(Target > 2)\n",
    "- model3: Pr(Target > 3)\n",
    "- model4: Pr(Target > 4)"
   ]
  },
  {
   "cell_type": "code",
   "execution_count": 84,
   "metadata": {},
   "outputs": [],
   "source": [
    "def clf_fit(X, y, clf):\n",
    "    \n",
    "    clfs = {}\n",
    "    unique_class = np.sort(np.unique(y))\n",
    "    \n",
    "    if unique_class.shape[0] > 2:\n",
    "        for i in range(unique_class.shape[0]-1):\n",
    "            # for each k-1 ordinal value we fit a binary classification problem\n",
    "            binary_y = (y > unique_class[i]).astype(np.uint8) # transform to a binary label\n",
    "            clfi = clone(clf) # create a new classifier for this label \n",
    "            clfi.fit(X, y)    # fit on it\n",
    "            clfs[unique_class[i]] = clfi    # store into the dictionary\n",
    "    return clfs\n",
    "\n",
    "def mdl_predict_proba(X, y, clfs):\n",
    "    \n",
    "    unique_class = np.sort(np.unique(y))\n",
    "    clfs_predict = {k:clfs[k].predict_proba(X) for k in clfs}\n",
    "    \n",
    "    predicted = []\n",
    "    for i, y in enumerate(unique_class):\n",
    "        if i==0:\n",
    "            # v1 = 1 - Pr(y > V1)\n",
    "            predicted.append(1 - clfs_predict[y][:,1])\n",
    "        elif y in clfs_predict:\n",
    "            # Vi = Pr(y > Vi-1) - Pr(y > Vi)\n",
    "            predicted.append(clfs_predict[y-1][:,1] - clfs_predict[y][:,1])\n",
    "        else:\n",
    "            # Vk = Pr(y > Vk - 1)\n",
    "            predicted.append(clfs_predict[y-1][:,1])\n",
    "    return np.vstack(predicted).T\n",
    "\n",
    "def mdl_predict(vstack):\n",
    "    return np.argmax(vstack, axis=1)+1"
   ]
  },
  {
   "cell_type": "markdown",
   "metadata": {},
   "source": [
    "Random Forest"
   ]
  },
  {
   "cell_type": "code",
   "execution_count": 16,
   "metadata": {},
   "outputs": [
    {
     "data": {
      "text/plain": [
       "{1: RandomForestClassifier(random_state=72),\n",
       " 2: RandomForestClassifier(random_state=72),\n",
       " 3: RandomForestClassifier(random_state=72),\n",
       " 4: RandomForestClassifier(random_state=72)}"
      ]
     },
     "execution_count": 16,
     "metadata": {},
     "output_type": "execute_result"
    }
   ],
   "source": [
    "rf_clf = RandomForestClassifier(random_state=72)\n",
    "rf_clfs = clf_fit(X_train, y_train, rf_clf)\n",
    "rf_clfs"
   ]
  },
  {
   "cell_type": "code",
   "execution_count": 19,
   "metadata": {},
   "outputs": [
    {
     "data": {
      "text/plain": [
       "1    16007\n",
       "4    13979\n",
       "2    10152\n",
       "3    10040\n",
       "5     8412\n",
       "Name: popularity_target, dtype: int64"
      ]
     },
     "execution_count": 19,
     "metadata": {},
     "output_type": "execute_result"
    }
   ],
   "source": [
    "y_test.value_counts()"
   ]
  },
  {
   "cell_type": "code",
   "execution_count": 17,
   "metadata": {},
   "outputs": [
    {
     "data": {
      "text/plain": [
       "0    50046\n",
       "4     8544\n",
       "dtype: int64"
      ]
     },
     "execution_count": 17,
     "metadata": {},
     "output_type": "execute_result"
    }
   ],
   "source": [
    "rf_pp = mdl_predict_proba(X_test, y_test, rf_clfs)\n",
    "rf_pred = mdl_predict(rf_pp)\n",
    "pd.Series(rf_pred).value_counts()"
   ]
  },
  {
   "cell_type": "code",
   "execution_count": 25,
   "metadata": {},
   "outputs": [
    {
     "name": "stdout",
     "output_type": "stream",
     "text": [
      "[1, RandomForestClassifier(random_state=72)]\n",
      "[2, RandomForestClassifier(random_state=72)]\n",
      "[3, RandomForestClassifier(random_state=72)]\n",
      "[4, RandomForestClassifier(random_state=72)]\n"
     ]
    }
   ],
   "source": [
    "for k in rf_clfs:\n",
    "    print([k, rf_clfs[k]])"
   ]
  },
  {
   "cell_type": "code",
   "execution_count": 27,
   "metadata": {},
   "outputs": [
    {
     "data": {
      "text/plain": [
       "array([[1.   , 1.   , 0.709, 0.611, 0.68 ],\n",
       "       [0.32 , 0.78 , 0.91 , 1.   , 0.99 ],\n",
       "       [0.865, 0.185, 0.96 , 0.99 , 1.   ],\n",
       "       ...,\n",
       "       [0.9  , 0.94 , 1.   , 0.99 , 0.17 ],\n",
       "       [1.   , 1.   , 1.   , 1.   , 0.   ],\n",
       "       [0.93 , 0.94 , 0.99 , 0.99 , 0.15 ]])"
      ]
     },
     "execution_count": 27,
     "metadata": {},
     "output_type": "execute_result"
    }
   ],
   "source": [
    "1-rf_clfs[1].predict_proba(X_test)"
   ]
  },
  {
   "cell_type": "code",
   "execution_count": null,
   "metadata": {},
   "outputs": [],
   "source": [
    "1-rf_clfs[1].predict_proba(X_test)"
   ]
  },
  {
   "cell_type": "code",
   "execution_count": 28,
   "metadata": {},
   "outputs": [
    {
     "data": {
      "text/plain": [
       "array([[0., 0., 0., 0., 0.],\n",
       "       [0., 0., 0., 0., 0.],\n",
       "       [0., 0., 0., 0., 0.],\n",
       "       ...,\n",
       "       [0., 0., 0., 0., 0.],\n",
       "       [0., 0., 0., 0., 0.],\n",
       "       [0., 0., 0., 0., 0.]])"
      ]
     },
     "execution_count": 28,
     "metadata": {},
     "output_type": "execute_result"
    }
   ],
   "source": [
    "rf_clfs[1].predict_proba(X_test) - rf_clfs[2].predict_proba(X_test)"
   ]
  },
  {
   "cell_type": "markdown",
   "metadata": {},
   "source": [
    "       "
   ]
  },
  {
   "cell_type": "markdown",
   "metadata": {},
   "source": [
    "Decision Tree"
   ]
  },
  {
   "cell_type": "code",
   "execution_count": 81,
   "metadata": {},
   "outputs": [
    {
     "data": {
      "text/plain": [
       "{1: DecisionTreeClassifier(max_depth=5),\n",
       " 2: DecisionTreeClassifier(max_depth=5),\n",
       " 3: DecisionTreeClassifier(max_depth=5),\n",
       " 4: DecisionTreeClassifier(max_depth=5)}"
      ]
     },
     "execution_count": 81,
     "metadata": {},
     "output_type": "execute_result"
    }
   ],
   "source": [
    "dt_clf = DecisionTreeClassifier(max_depth=5)\n",
    "dt_clfs = clf_fit(X_train, y_train, dt_clf)\n",
    "dt_clfs"
   ]
  },
  {
   "cell_type": "code",
   "execution_count": 85,
   "metadata": {},
   "outputs": [
    {
     "data": {
      "text/plain": [
       "1    57928\n",
       "5      662\n",
       "dtype: int64"
      ]
     },
     "execution_count": 85,
     "metadata": {},
     "output_type": "execute_result"
    }
   ],
   "source": [
    "dt_pp = mdl_predict_proba(X_test, y_test, dt_clfs)\n",
    "dt_pred = mdl_predict(dt_pp)\n",
    "pd.Series(dt_pred).value_counts()"
   ]
  },
  {
   "cell_type": "code",
   "execution_count": 86,
   "metadata": {},
   "outputs": [
    {
     "name": "stdout",
     "output_type": "stream",
     "text": [
      "Predicted Species      1    5\n",
      "Actual Species               \n",
      "1                  15979   28\n",
      "2                   9724  428\n",
      "3                   9876  164\n",
      "4                  13944   35\n",
      "5                   8405    7\n"
     ]
    }
   ],
   "source": [
    "print(pd.crosstab(y_test, dt_pred, rownames=['Actual Species'], colnames=['Predicted Species']))"
   ]
  },
  {
   "cell_type": "code",
   "execution_count": 87,
   "metadata": {},
   "outputs": [
    {
     "data": {
      "text/plain": [
       "0.27284519542584057"
      ]
     },
     "execution_count": 87,
     "metadata": {},
     "output_type": "execute_result"
    }
   ],
   "source": [
    "accuracy_score(y_test, dt_pred, normalize=True)"
   ]
  },
  {
   "cell_type": "markdown",
   "metadata": {},
   "source": [
    "-----"
   ]
  },
  {
   "cell_type": "markdown",
   "metadata": {},
   "source": [
    "---"
   ]
  },
  {
   "cell_type": "markdown",
   "metadata": {},
   "source": [
    "    "
   ]
  },
  {
   "cell_type": "markdown",
   "metadata": {},
   "source": [
    "### Regular Multi-classification Modeling"
   ]
  },
  {
   "cell_type": "markdown",
   "metadata": {},
   "source": [
    "Random Forest - Base"
   ]
  },
  {
   "cell_type": "code",
   "execution_count": 113,
   "metadata": {},
   "outputs": [
    {
     "data": {
      "text/plain": [
       "RandomForestClassifier(criterion='entropy', n_estimators=10, random_state=42)"
      ]
     },
     "execution_count": 113,
     "metadata": {},
     "output_type": "execute_result"
    }
   ],
   "source": [
    "rf_mod = RandomForestClassifier(n_estimators = 10, criterion = 'entropy', random_state = 42)\n",
    "rf_mod.fit(X_train, y_train)"
   ]
  },
  {
   "cell_type": "code",
   "execution_count": 114,
   "metadata": {},
   "outputs": [],
   "source": [
    "y_rf_train_pred = rf_mod.predict(X_train)\n",
    "y_rf_test_pred = rf_mod.predict(X_test)"
   ]
  },
  {
   "cell_type": "code",
   "execution_count": null,
   "metadata": {},
   "outputs": [],
   "source": [
    "accuracy_score(y_train, y_rf_train_pred, normalize=True)"
   ]
  },
  {
   "cell_type": "code",
   "execution_count": 120,
   "metadata": {},
   "outputs": [
    {
     "data": {
      "text/plain": [
       "0.7555214200375491"
      ]
     },
     "execution_count": 120,
     "metadata": {},
     "output_type": "execute_result"
    }
   ],
   "source": [
    "accuracy_score(y_test, y_rf_test_pred, normalize=True)"
   ]
  },
  {
   "cell_type": "code",
   "execution_count": 121,
   "metadata": {},
   "outputs": [],
   "source": [
    "rf_var_importance = rf_mod.feature_importances_\n",
    "std = np.std([tree.feature_importances_ for tree in rf_mod.estimators_], axis=0)\n",
    "indices = np.argsort(rf_var_importance)[::-1]"
   ]
  },
  {
   "cell_type": "code",
   "execution_count": 122,
   "metadata": {
    "scrolled": true
   },
   "outputs": [
    {
     "data": {
      "text/html": [
       "<div>\n",
       "<style scoped>\n",
       "    .dataframe tbody tr th:only-of-type {\n",
       "        vertical-align: middle;\n",
       "    }\n",
       "\n",
       "    .dataframe tbody tr th {\n",
       "        vertical-align: top;\n",
       "    }\n",
       "\n",
       "    .dataframe thead th {\n",
       "        text-align: right;\n",
       "    }\n",
       "</style>\n",
       "<table border=\"1\" class=\"dataframe\">\n",
       "  <thead>\n",
       "    <tr style=\"text-align: right;\">\n",
       "      <th></th>\n",
       "      <th>variable</th>\n",
       "      <th>importance</th>\n",
       "    </tr>\n",
       "  </thead>\n",
       "  <tbody>\n",
       "    <tr>\n",
       "      <th>23</th>\n",
       "      <td>tempo_year</td>\n",
       "      <td>0.062523</td>\n",
       "    </tr>\n",
       "    <tr>\n",
       "      <th>19</th>\n",
       "      <td>instrumentalness_year</td>\n",
       "      <td>0.059840</td>\n",
       "    </tr>\n",
       "    <tr>\n",
       "      <th>22</th>\n",
       "      <td>speechiness_year</td>\n",
       "      <td>0.056573</td>\n",
       "    </tr>\n",
       "    <tr>\n",
       "      <th>21</th>\n",
       "      <td>loudness_year</td>\n",
       "      <td>0.049542</td>\n",
       "    </tr>\n",
       "    <tr>\n",
       "      <th>15</th>\n",
       "      <td>acousticness_year</td>\n",
       "      <td>0.035454</td>\n",
       "    </tr>\n",
       "  </tbody>\n",
       "</table>\n",
       "</div>"
      ],
      "text/plain": [
       "                 variable  importance\n",
       "23             tempo_year    0.062523\n",
       "19  instrumentalness_year    0.059840\n",
       "22       speechiness_year    0.056573\n",
       "21          loudness_year    0.049542\n",
       "15      acousticness_year    0.035454"
      ]
     },
     "execution_count": 122,
     "metadata": {},
     "output_type": "execute_result"
    }
   ],
   "source": [
    "rf_importance_df = pd.DataFrame(zip(X_test.columns, rf_mod.feature_importances_))\n",
    "rf_importance_df = rf_importance_df.rename(columns={0:'variable', 1:'importance'})\n",
    "rf_importance_df.sort_values(by=['importance'], ascending=False).head(5)"
   ]
  },
  {
   "cell_type": "markdown",
   "metadata": {},
   "source": [
    "    "
   ]
  },
  {
   "cell_type": "markdown",
   "metadata": {},
   "source": [
    "Random Forest - Optimal"
   ]
  },
  {
   "cell_type": "code",
   "execution_count": 173,
   "metadata": {
    "scrolled": true
   },
   "outputs": [
    {
     "data": {
      "text/plain": [
       "GridSearchCV(cv=3,\n",
       "             estimator=RandomForestClassifier(criterion='entropy',\n",
       "                                              random_state=72),\n",
       "             param_grid={'max_depth': [20], 'max_features': ['sqrt'],\n",
       "                         'min_samples_leaf': [10], 'n_estimators': [100]},\n",
       "             return_train_score=True, scoring='accuracy')"
      ]
     },
     "execution_count": 173,
     "metadata": {},
     "output_type": "execute_result"
    }
   ],
   "source": [
    "param_grid = {\n",
    "    'max_depth' : [20],\n",
    "    'min_samples_leaf' : [10],\n",
    "    'max_features' : ['sqrt'],\n",
    "    'n_estimators' : [100]\n",
    "    }\n",
    "\n",
    "rf_mod = RandomForestClassifier(criterion = 'entropy', random_state = 72)\n",
    "\n",
    "grid_search = GridSearchCV(estimator = rf_mod,\n",
    "                           param_grid = param_grid,\n",
    "                           scoring = 'accuracy',\n",
    "                           cv = 3,\n",
    "                           verbose = 0,\n",
    "                           return_train_score = True)\n",
    "\n",
    "grid_search.fit(X_train, y_train)"
   ]
  },
  {
   "cell_type": "code",
   "execution_count": 175,
   "metadata": {},
   "outputs": [
    {
     "data": {
      "text/plain": [
       "{'max_depth': 20,\n",
       " 'max_features': 'sqrt',\n",
       " 'min_samples_leaf': 10,\n",
       " 'n_estimators': 100}"
      ]
     },
     "execution_count": 175,
     "metadata": {},
     "output_type": "execute_result"
    }
   ],
   "source": [
    "grid_search.best_params_\n",
    "\n",
    "#{'max_depth': 35,\n",
    "# 'max_features': 'sqrt',\n",
    "# 'min_samples_leaf': 8,\n",
    "# 'n_estimators': 40}"
   ]
  },
  {
   "cell_type": "code",
   "execution_count": 176,
   "metadata": {},
   "outputs": [],
   "source": [
    "y_rf_opt_pred_train = grid_search.best_estimator_.predict(X_train)\n",
    "y_rf_opt_pred_test = grid_search.best_estimator_.predict(X_test)"
   ]
  },
  {
   "cell_type": "code",
   "execution_count": 177,
   "metadata": {},
   "outputs": [
    {
     "data": {
      "text/plain": [
       "0.8242475962906071"
      ]
     },
     "execution_count": 177,
     "metadata": {},
     "output_type": "execute_result"
    }
   ],
   "source": [
    "accuracy_score(y_train, y_rf_opt_pred_train, normalize=True)"
   ]
  },
  {
   "cell_type": "code",
   "execution_count": 178,
   "metadata": {},
   "outputs": [
    {
     "data": {
      "text/plain": [
       "0.7550435227854583"
      ]
     },
     "execution_count": 178,
     "metadata": {},
     "output_type": "execute_result"
    }
   ],
   "source": [
    "accuracy_score(y_test, y_rf_opt_pred, normalize=True)"
   ]
  },
  {
   "cell_type": "code",
   "execution_count": 33,
   "metadata": {
    "scrolled": true
   },
   "outputs": [
    {
     "name": "stdout",
     "output_type": "stream",
     "text": [
      "[[15187   475    11    34   300]\n",
      " [ 1756  7338   748    52   258]\n",
      " [  160  1339  5813  2617   111]\n",
      " [   44   341  2059 10619   916]\n",
      " [  153    52   348  2578  5281]]\n",
      "\n",
      "\n",
      "              precision    recall  f1-score   support\n",
      "\n",
      "           1       0.88      0.95      0.91     16007\n",
      "           2       0.77      0.72      0.75     10152\n",
      "           3       0.65      0.58      0.61     10040\n",
      "           4       0.67      0.76      0.71     13979\n",
      "           5       0.77      0.63      0.69      8412\n",
      "\n",
      "    accuracy                           0.76     58590\n",
      "   macro avg       0.75      0.73      0.73     58590\n",
      "weighted avg       0.75      0.76      0.75     58590\n",
      "\n"
     ]
    }
   ],
   "source": [
    "print(confusion_matrix(y_test, y_rf_opt_pred))\n",
    "print('\\n')\n",
    "print(classification_report(y_test, y_rf_opt_pred))"
   ]
  },
  {
   "cell_type": "code",
   "execution_count": 32,
   "metadata": {},
   "outputs": [
    {
     "data": {
      "text/plain": [
       "Text(0.5, 1.0, 'Confusion matrix - Optimized Random Forest ')"
      ]
     },
     "execution_count": 32,
     "metadata": {},
     "output_type": "execute_result"
    },
    {
     "data": {
      "image/png": "[encoded data removed]",
      "text/plain": [
       "<Figure size 432x432 with 2 Axes>"
      ]
     },
     "metadata": {
      "needs_background": "light"
     },
     "output_type": "display_data"
    }
   ],
   "source": [
    "fig, ax = plt.subplots(figsize=(6, 6))\n",
    "disp = plot_confusion_matrix(grid_search.best_estimator_, X, Y, display_labels=['1', '2', '3', '4', '5'], ax=ax)\n",
    "disp.ax_.set_title('Confusion matrix - Optimized Random Forest ')"
   ]
  },
  {
   "cell_type": "code",
   "execution_count": 27,
   "metadata": {},
   "outputs": [
    {
     "data": {
      "text/plain": [
       "Text(0.5, 1.0, 'Feature Importance - Top 15')"
      ]
     },
     "execution_count": 27,
     "metadata": {},
     "output_type": "execute_result"
    },
    {
     "data": {
      "image/png": "[encoded data removed]",
      "text/plain": [
       "<Figure size 720x432 with 1 Axes>"
      ]
     },
     "metadata": {
      "needs_background": "light"
     },
     "output_type": "display_data"
    }
   ],
   "source": [
    "feature_importance = grid_search.best_estimator_.feature_importances_.tolist()\n",
    "feature_name = X_test.columns.tolist()\n",
    "rf_opt_fi_df = pd.DataFrame({'Features':feature_name, 'Importance':feature_importance}).sort_values(by='Importance',ascending=False)\n",
    "\n",
    "plt.figure(figsize=(10,6))\n",
    "ax = sns.barplot(x=\"Importance\", y=\"Features\", data=rf_opt_fi_df[0:15], palette='Blues_r')\n",
    "plt.title('Feature Importance - Top 15')\n",
    "# https://www.python-graph-gallery.com/101-make-a-color-palette-with-seaborn"
   ]
  },
  {
   "cell_type": "code",
   "execution_count": null,
   "metadata": {},
   "outputs": [],
   "source": []
  },
  {
   "cell_type": "code",
   "execution_count": null,
   "metadata": {},
   "outputs": [],
   "source": []
  },
  {
   "cell_type": "code",
   "execution_count": null,
   "metadata": {},
   "outputs": [],
   "source": []
  },
  {
   "cell_type": "code",
   "execution_count": null,
   "metadata": {},
   "outputs": [],
   "source": []
  },
  {
   "cell_type": "markdown",
   "metadata": {},
   "source": [
    "     "
   ]
  },
  {
   "cell_type": "markdown",
   "metadata": {},
   "source": [
    "XGBoost - Base"
   ]
  },
  {
   "cell_type": "code",
   "execution_count": 123,
   "metadata": {},
   "outputs": [
    {
     "name": "stderr",
     "output_type": "stream",
     "text": [
      "C:\\Anaconda3\\lib\\site-packages\\xgboost\\sklearn.py:888: UserWarning: The use of label encoder in XGBClassifier is deprecated and will be removed in a future release. To remove this warning, do the following: 1) Pass option use_label_encoder=False when constructing XGBClassifier object; and 2) Encode your labels (y) as integers starting with 0, i.e. 0, 1, 2, ..., [num_class - 1].\n",
      "  warnings.warn(label_encoder_deprecation_msg, UserWarning)\n"
     ]
    },
    {
     "name": "stdout",
     "output_type": "stream",
     "text": [
      "[19:09:06] WARNING: C:/Users/Administrator/workspace/xgboost-win64_release_1.3.0/src/learner.cc:1061: Starting in XGBoost 1.3.0, the default evaluation metric used with the objective 'multi:softprob' was changed from 'merror' to 'mlogloss'. Explicitly set eval_metric if you'd like to restore the old behavior.\n"
     ]
    },
    {
     "data": {
      "text/plain": [
       "XGBClassifier(base_score=0.5, booster='gbtree', colsample_bylevel=1,\n",
       "              colsample_bynode=1, colsample_bytree=1, gamma=0, gpu_id=-1,\n",
       "              importance_type='gain', interaction_constraints='',\n",
       "              learning_rate=0.300000012, max_delta_step=0, max_depth=6,\n",
       "              min_child_weight=1, missing=nan, monotone_constraints='()',\n",
       "              n_estimators=100, n_jobs=4, num_class=5, num_parallel_tree=1,\n",
       "              objective='multi:softprob', random_state=72, reg_alpha=0,\n",
       "              reg_lambda=1, scale_pos_weight=None, seed=72, subsample=1,\n",
       "              tree_method='exact', validate_parameters=1, verbosity=None)"
      ]
     },
     "execution_count": 123,
     "metadata": {},
     "output_type": "execute_result"
    }
   ],
   "source": [
    "xgb_base_mod = xgb.XGBClassifier(objective=\"multi:softprob\", \n",
    "                                 num_class = 5,\n",
    "                                 seed = 72)\n",
    "\n",
    "xgb_base_mod.fit(X_train, y_train)"
   ]
  },
  {
   "cell_type": "code",
   "execution_count": 124,
   "metadata": {},
   "outputs": [
    {
     "data": {
      "text/plain": [
       "0.7783808385958924"
      ]
     },
     "execution_count": 124,
     "metadata": {},
     "output_type": "execute_result"
    }
   ],
   "source": [
    "y_xgb_base_pred_train = xgb_base_mod.predict(X_train)\n",
    "accuracy_score(y_train, y_xgb_base_pred_train, normalize=True)"
   ]
  },
  {
   "cell_type": "code",
   "execution_count": 125,
   "metadata": {},
   "outputs": [
    {
     "data": {
      "text/plain": [
       "0.7343061955965182"
      ]
     },
     "execution_count": 125,
     "metadata": {},
     "output_type": "execute_result"
    }
   ],
   "source": [
    "y_xgb_base_pred = xgb_base_mod.predict(X_test)\n",
    "accuracy_score(y_test, y_xgb_base_pred, normalize=True)"
   ]
  },
  {
   "cell_type": "code",
   "execution_count": null,
   "metadata": {},
   "outputs": [],
   "source": []
  },
  {
   "cell_type": "code",
   "execution_count": null,
   "metadata": {},
   "outputs": [],
   "source": []
  },
  {
   "cell_type": "markdown",
   "metadata": {},
   "source": [
    "XGBoost - Optimal"
   ]
  },
  {
   "cell_type": "code",
   "execution_count": 141,
   "metadata": {},
   "outputs": [
    {
     "name": "stdout",
     "output_type": "stream",
     "text": [
      "[14:52:07] WARNING: C:/Users/Administrator/workspace/xgboost-win64_release_1.3.0/src/learner.cc:1061: Starting in XGBoost 1.3.0, the default evaluation metric used with the objective 'multi:softprob' was changed from 'merror' to 'mlogloss'. Explicitly set eval_metric if you'd like to restore the old behavior.\n"
     ]
    },
    {
     "data": {
      "text/plain": [
       "XGBClassifier(alpha=0.9, base_score=0.5, booster='gbtree', colsample_bylevel=1,\n",
       "              colsample_bynode=1, colsample_bytree=0.9, gamma=0.005, gpu_id=-1,\n",
       "              importance_type='gain', interaction_constraints='',\n",
       "              learning_rate=0.13, max_delta_step=0, max_depth=5,\n",
       "              min_child_weight=1, missing=nan, monotone_constraints='()',\n",
       "              n_estimators=900, n_jobs=4, nthread=4, num_class=5,\n",
       "              num_parallel_tree=1, objective='multi:softprob', random_state=72,\n",
       "              reg_alpha=0.899999976, reg_lambda=1, scale_pos_weight=None,\n",
       "              seed=72, subsample=0.9, tree_method='exact',\n",
       "              validate_parameters=1, ...)"
      ]
     },
     "execution_count": 141,
     "metadata": {},
     "output_type": "execute_result"
    }
   ],
   "source": [
    "xgb_mod1 = xgb.XGBClassifier(max_depth = 5, # should be between 3-10 \n",
    "                             min_child_weight = 1, # smaller value for imbalanced\n",
    "                             gamma = 0.005, # small value 0-0.2 --> min loss reduction required to make a further partition  #\n",
    "                             subsample = 0.9, # 0.5-0.9\n",
    "                             colsample_bytree = 0.9, # 0.5-0.9\n",
    "                             learning_rate = 0.13,\n",
    "                             n_estimators = 900,\n",
    "                             objective = 'multi:softprob',\n",
    "                             nthread = 4,\n",
    "                             alpha = 0.9,\n",
    "                             #scale_pos_weight = 1,\n",
    "                             num_class = 5,\n",
    "                             seed = 72)\n",
    "xgb_mod1.fit(X_train, y_train)"
   ]
  },
  {
   "cell_type": "code",
   "execution_count": 142,
   "metadata": {},
   "outputs": [
    {
     "data": {
      "text/plain": [
       "0.8520566649598907"
      ]
     },
     "execution_count": 142,
     "metadata": {},
     "output_type": "execute_result"
    }
   ],
   "source": [
    "y_xgb_mod1_pred_train = xgb_mod1.predict(X_train)\n",
    "accuracy_score(y_train, y_xgb_mod1_pred_train, normalize=True)\n",
    "# 0.8293508562325766"
   ]
  },
  {
   "cell_type": "code",
   "execution_count": 143,
   "metadata": {},
   "outputs": [
    {
     "data": {
      "text/plain": [
       "0.7597712920293566"
      ]
     },
     "execution_count": 143,
     "metadata": {},
     "output_type": "execute_result"
    }
   ],
   "source": [
    "y_xgb_mod1_pred = xgb_mod1.predict(X_test)\n",
    "accuracy_score(y_test, y_xgb_mod1_pred, normalize=True)\n",
    "# 0.7532855436081243"
   ]
  },
  {
   "cell_type": "markdown",
   "metadata": {},
   "source": [
    "Result"
   ]
  },
  {
   "cell_type": "code",
   "execution_count": 46,
   "metadata": {},
   "outputs": [],
   "source": [
    "xgb_mod1_fi = xgb_mod1.feature_importances_ # len = 49\n",
    "xgb_mod1_fi_df = pd.DataFrame({'Features':X_test.columns.tolist(),'Importance':xgb_mod1_fi.tolist()}).sort_values(by='Importance', ascending=False)"
   ]
  },
  {
   "cell_type": "code",
   "execution_count": 47,
   "metadata": {},
   "outputs": [
    {
     "data": {
      "image/png": "[encoded data removed]",
      "text/plain": [
       "<Figure size 720x432 with 1 Axes>"
      ]
     },
     "metadata": {
      "needs_background": "light"
     },
     "output_type": "display_data"
    }
   ],
   "source": [
    "plt.figure(figsize=(10,6))\n",
    "#sns.color_palette(\"Blues_d\", as_cmap=True)\n",
    "ax = sns.barplot(x=\"Importance\", y=\"Features\", data=xgb_mod1_fi_df[0:10], palette='Blues_r')"
   ]
  },
  {
   "cell_type": "code",
   "execution_count": null,
   "metadata": {},
   "outputs": [],
   "source": []
  },
  {
   "cell_type": "code",
   "execution_count": 48,
   "metadata": {},
   "outputs": [
    {
     "name": "stdout",
     "output_type": "stream",
     "text": [
      "[[15172   599     9    33   194]\n",
      " [ 1474  7585   809    79   205]\n",
      " [  117  1348  5963  2522    90]\n",
      " [   47   361  2237 10433   901]\n",
      " [  136    83   343  2512  5338]]\n",
      "\n",
      "\n",
      "              precision    recall  f1-score   support\n",
      "\n",
      "           1       0.90      0.95      0.92     16007\n",
      "           2       0.76      0.75      0.75     10152\n",
      "           3       0.64      0.59      0.61     10040\n",
      "           4       0.67      0.75      0.71     13979\n",
      "           5       0.79      0.63      0.71      8412\n",
      "\n",
      "    accuracy                           0.76     58590\n",
      "   macro avg       0.75      0.73      0.74     58590\n",
      "weighted avg       0.76      0.76      0.76     58590\n",
      "\n"
     ]
    }
   ],
   "source": [
    "print(confusion_matrix(y_test, y_xgb_mod1_pred))\n",
    "print('\\n')\n",
    "print(classification_report(y_test, y_xgb_mod1_pred))"
   ]
  },
  {
   "cell_type": "code",
   "execution_count": 49,
   "metadata": {},
   "outputs": [
    {
     "data": {
      "text/plain": [
       "Text(0.5, 1.0, 'Confusion matrix - Optimized XGBoost ')"
      ]
     },
     "execution_count": 49,
     "metadata": {},
     "output_type": "execute_result"
    },
    {
     "data": {
      "image/png": "[encoded data removed]",
      "text/plain": [
       "<Figure size 432x432 with 2 Axes>"
      ]
     },
     "metadata": {
      "needs_background": "light"
     },
     "output_type": "display_data"
    }
   ],
   "source": [
    "fig, ax = plt.subplots(figsize=(6, 6))\n",
    "disp = plot_confusion_matrix(xgb_mod1, X, Y, display_labels=['1', '2', '3', '4', '5'], ax=ax)\n",
    "disp.ax_.set_title('Confusion matrix - Optimized XGBoost ')"
   ]
  },
  {
   "cell_type": "code",
   "execution_count": null,
   "metadata": {},
   "outputs": [],
   "source": [
    "y_xgb_mod1_pred_train = xgb_mod1.predict(X_train)\n",
    "accuracy_score(y_train, y_xgb_mod1_pred_train, normalize=True)"
   ]
  },
  {
   "cell_type": "markdown",
   "metadata": {},
   "source": [
    "      "
   ]
  },
  {
   "cell_type": "markdown",
   "metadata": {},
   "source": [
    "     "
   ]
  },
  {
   "cell_type": "markdown",
   "metadata": {},
   "source": [
    "--------"
   ]
  },
  {
   "cell_type": "markdown",
   "metadata": {},
   "source": [
    "### Ensemble"
   ]
  },
  {
   "cell_type": "code",
   "execution_count": 50,
   "metadata": {},
   "outputs": [
    {
     "data": {
      "text/plain": [
       "[(175770, 51), (58590, 51)]"
      ]
     },
     "execution_count": 50,
     "metadata": {},
     "output_type": "execute_result"
    }
   ],
   "source": [
    "reg_train_data = pd.read_csv('train_output_regression.csv')\n",
    "reg_test_data = pd.read_csv('test_output_regression.csv')\n",
    "\n",
    "[reg_train_data.shape, reg_test_data.shape]"
   ]
  },
  {
   "cell_type": "code",
   "execution_count": 179,
   "metadata": {},
   "outputs": [],
   "source": [
    "reg_train_y_pred = reg_train_data['popularity_group']\n",
    "reg_test_y_pred = reg_test_data['popularity_group']\n",
    "\n",
    "rf_train_y_pred = grid_search.best_estimator_.predict(X_train)\n",
    "rf_test_y_pred = grid_search.best_estimator_.predict(X_test)\n",
    "rf_all_y_pred = grid_search.best_estimator_.predict(X)\n",
    "\n",
    "xgb_train_y_pred = xgb_mod1.predict(X_train)\n",
    "xgb_test_y_pred = xgb_mod1.predict(X_test)\n",
    "xgb_all_y_pred = xgb_mod1.predict(X)"
   ]
  },
  {
   "cell_type": "code",
   "execution_count": 183,
   "metadata": {},
   "outputs": [],
   "source": [
    "all_train_ys = pd.DataFrame({'train_y': y_train.tolist(),\n",
    "                             'reg_train_y': reg_train_y_pred.tolist(),\n",
    "                             'rf_train_y': rf_train_y_pred.tolist(),\n",
    "                             'xgb_train_y': xgb_train_y_pred.tolist()})\n",
    "\n",
    "all_test_ys = pd.DataFrame({'test_y': y_test.tolist(),\n",
    "                            'reg_test_y': reg_test_y_pred.tolist(),\n",
    "                            'rf_test_y': rf_test_y_pred.tolist(),\n",
    "                            'xgb_test_y': xgb_test_y_pred.tolist()})"
   ]
  },
  {
   "cell_type": "code",
   "execution_count": 184,
   "metadata": {},
   "outputs": [
    {
     "name": "stdout",
     "output_type": "stream",
     "text": [
      "[[    0     0     0     0     0     0     0]\n",
      " [   48 37325  7990  2058   585    16     0]\n",
      " [    2  5858 15171  8590   799    36     0]\n",
      " [    0   325  3411 12340 14019    25     0]\n",
      " [    0    26   655  5403 34456  1396     1]\n",
      " [    0     7   352  2599 15797  6457    23]\n",
      " [    0     0     0     0     0     0     0]]\n",
      "\n",
      "\n"
     ]
    },
    {
     "name": "stderr",
     "output_type": "stream",
     "text": [
      "C:\\Anaconda3\\lib\\site-packages\\sklearn\\metrics\\_classification.py:1221: UndefinedMetricWarning: Recall and F-score are ill-defined and being set to 0.0 in labels with no true samples. Use `zero_division` parameter to control this behavior.\n",
      "  _warn_prf(average, modifier, msg_start, len(result))\n"
     ]
    },
    {
     "name": "stdout",
     "output_type": "stream",
     "text": [
      "              precision    recall  f1-score   support\n",
      "\n",
      "           0       0.00      0.00      0.00         0\n",
      "           1       0.86      0.78      0.82     48022\n",
      "           2       0.55      0.50      0.52     30456\n",
      "           3       0.40      0.41      0.40     30120\n",
      "           4       0.52      0.82      0.64     41937\n",
      "           5       0.81      0.26      0.39     25235\n",
      "           6       0.00      0.00      0.00         0\n",
      "\n",
      "    accuracy                           0.60    175770\n",
      "   macro avg       0.45      0.39      0.40    175770\n",
      "weighted avg       0.64      0.60      0.59    175770\n",
      "\n"
     ]
    }
   ],
   "source": [
    "print(confusion_matrix(all_train_ys['train_y'], all_train_ys['reg_train_y']))\n",
    "print('\\n')\n",
    "print(classification_report(all_train_ys['train_y'], all_train_ys['reg_train_y']))"
   ]
  },
  {
   "cell_type": "markdown",
   "metadata": {},
   "source": [
    "Weighted Group"
   ]
  },
  {
   "cell_type": "code",
   "execution_count": 193,
   "metadata": {},
   "outputs": [],
   "source": [
    "# average\n",
    "#all_train_ys['ensemble_train_y'] = round((all_train_ys['reg_train_y']+all_train_ys['rf_train_y']+all_train_ys['xgb_train_y'])/3,0).astype(int)\n",
    "#all_test_ys['ensemble_test_y'] = round((all_test_ys['reg_test_y']+all_test_ys['rf_test_y']+all_test_ys['xgb_test_y'])/3,0).astype(int)\n",
    "\n",
    "\n",
    "# median\n",
    "#all_train_ys['ensemble_train_y'] = all_train_ys[['reg_train_y','rf_train_y','xgb_train_y']].median(axis=1).astype(int)\n",
    "#all_test_ys['ensemble_test_y'] = all_test_ys[['reg_test_y','rf_test_y','xgb_test_y']].median(axis=1).astype(int)\n",
    "\n",
    "\n",
    "# weighted average\n",
    "#all_train_ys['ensemble_train_y'] = round((all_train_ys['reg_train_y']+all_train_ys['rf_train_y']+all_train_ys['xgb_train_y'])/3,0).astype(int)\n",
    "#all_test_ys['ensemble_test_y'] = all_test_ys['reg_test_y','rf_test_y','xgb_test_y'].mean(axis=1).astype(int)\n",
    "\n",
    "\n",
    "# most frequent\n",
    "def prefer_high_freq(row, rf_y, xgb_y):\n",
    "    \n",
    "    y_list = [row[rf_y], row[xgb_y]]\n",
    "    \n",
    "    if len(set(y_list)) < len(y_list):\n",
    "        output = max(set(y_list), key = y_list.count) \n",
    "    else:\n",
    "        output = int(round((sum(y_list) / len(y_list)),0))\n",
    "        \n",
    "    return output\n",
    "\n",
    "#all_train_ys['ensemble_train_y'] = round(all_train_ys.apply(lambda row: prefer_high_freq(row,'rf_train_y','xgb_train_y'),axis=1))\n",
    "#all_test_ys['ensemble_test_y'] = round(all_test_ys.apply(lambda row: prefer_high_freq(row,'rf_test_y','xgb_test_y'), axis=1))\n",
    "\n",
    "\n",
    "# Preferred 3&4\n",
    "def prefer34(row, rf_y, xgb_y):\n",
    "    if any([row[rf_y]==4, row[xgb_y]==4]):\n",
    "        output = 4\n",
    "    elif any([row[rf_y]==3, row[xgb_y]==3]):\n",
    "        output = 3\n",
    "    else:\n",
    "        output = round((row[rf_y]+row[xgb_y])/3,0).astype(int)\n",
    "    return output\n",
    "all_train_ys['ensemble_train_y'] = all_train_ys.apply(lambda row: prefer34(row,'rf_train_y','xgb_train_y'), axis = 1) \n",
    "all_test_ys['ensemble_test_y'] = all_test_ys.apply(lambda row: prefer34(row,'rf_test_y','xgb_test_y'), axis = 1) "
   ]
  },
  {
   "cell_type": "code",
   "execution_count": 207,
   "metadata": {},
   "outputs": [
    {
     "name": "stdout",
     "output_type": "stream",
     "text": [
      "[[46629   709    15    85   584]\n",
      " [ 3938 24457  1236   119   706]\n",
      " [  458  2804 21620  4930   308]\n",
      " [  104  1013  3485 35393  1942]\n",
      " [  190   133   968  7165 16779]]\n",
      "\n",
      "\n",
      "              precision    recall  f1-score   support\n",
      "\n",
      "           1       0.91      0.97      0.94     48022\n",
      "           2       0.84      0.80      0.82     30456\n",
      "           3       0.79      0.72      0.75     30120\n",
      "           4       0.74      0.84      0.79     41937\n",
      "           5       0.83      0.66      0.74     25235\n",
      "\n",
      "    accuracy                           0.82    175770\n",
      "   macro avg       0.82      0.80      0.81    175770\n",
      "weighted avg       0.82      0.82      0.82    175770\n",
      "\n"
     ]
    }
   ],
   "source": [
    "print(confusion_matrix(all_train_ys['train_y'], all_train_ys['rf_train_y']))\n",
    "print('\\n')\n",
    "print(classification_report(all_train_ys['train_y'], all_train_ys['rf_train_y']))"
   ]
  },
  {
   "cell_type": "code",
   "execution_count": 195,
   "metadata": {},
   "outputs": [
    {
     "name": "stdout",
     "output_type": "stream",
     "text": [
      "[[15611   182   170    44     0]\n",
      " [ 8816   125  1126    85     0]\n",
      " [ 1262    18  5586  3174     0]\n",
      " [  319    22  2352 11286     0]\n",
      " [  134   152  5232  2894     0]]\n",
      "\n",
      "\n",
      "              precision    recall  f1-score   support\n",
      "\n",
      "           1       0.60      0.98      0.74     16007\n",
      "           2       0.25      0.01      0.02     10152\n",
      "           3       0.39      0.56      0.46     10040\n",
      "           4       0.65      0.81      0.72     13979\n",
      "           5       0.00      0.00      0.00      8412\n",
      "\n",
      "    accuracy                           0.56     58590\n",
      "   macro avg       0.38      0.47      0.39     58590\n",
      "weighted avg       0.43      0.56      0.46     58590\n",
      "\n"
     ]
    }
   ],
   "source": [
    "print(confusion_matrix(all_test_ys['test_y'], all_test_ys['ensemble_test_y']))\n",
    "print('\\n')\n",
    "print(classification_report(all_test_ys['test_y'], all_test_ys['ensemble_test_y']))"
   ]
  },
  {
   "cell_type": "markdown",
   "metadata": {},
   "source": [
    "Train Results"
   ]
  },
  {
   "cell_type": "code",
   "execution_count": 136,
   "metadata": {},
   "outputs": [
    {
     "name": "stdout",
     "output_type": "stream",
     "text": [
      "[[44576   761  2076   602     7]\n",
      " [ 3118 17779  8645   890    24]\n",
      " [  232  1127 14474 14266    21]\n",
      " [   35   328  2131 39068   375]\n",
      " [   38    49  2523 16367  6258]]\n",
      "\n",
      "\n",
      "              precision    recall  f1-score   support\n",
      "\n",
      "           1       0.93      0.93      0.93     48022\n",
      "           2       0.89      0.58      0.70     30456\n",
      "           3       0.48      0.48      0.48     30120\n",
      "           4       0.55      0.93      0.69     41937\n",
      "           5       0.94      0.25      0.39     25235\n",
      "\n",
      "    accuracy                           0.69    175770\n",
      "   macro avg       0.76      0.63      0.64    175770\n",
      "weighted avg       0.76      0.69      0.68    175770\n",
      "\n"
     ]
    }
   ],
   "source": [
    "print(confusion_matrix(all_train_ys['train_y'], all_train_ys['ensemble_train_y']))\n",
    "print('\\n')\n",
    "print(classification_report(all_train_ys['train_y'], all_train_ys['ensemble_train_y']))"
   ]
  },
  {
   "cell_type": "code",
   "execution_count": 97,
   "metadata": {},
   "outputs": [
    {
     "data": {
      "text/plain": [
       "Text(0.5, 1.0, 'Confusion matrix - Optimized Random Forest ')"
      ]
     },
     "execution_count": 97,
     "metadata": {},
     "output_type": "execute_result"
    },
    {
     "data": {
      "image/png": "[encoded data removed]",
      "text/plain": [
       "<Figure size 432x432 with 2 Axes>"
      ]
     },
     "metadata": {
      "needs_background": "light"
     },
     "output_type": "display_data"
    }
   ],
   "source": [
    "fig, ax = plt.subplots(figsize=(6, 6))\n",
    "disp = plot_confusion_matrix(grid_search.best_estimator_, X, Y, display_labels=['1', '2', '3', '4', '5'], ax=ax)\n",
    "disp.ax_.set_title('Confusion matrix - Optimized Random Forest ')"
   ]
  },
  {
   "cell_type": "markdown",
   "metadata": {},
   "source": [
    "Test Results"
   ]
  },
  {
   "cell_type": "code",
   "execution_count": 137,
   "metadata": {},
   "outputs": [
    {
     "name": "stdout",
     "output_type": "stream",
     "text": [
      "[[14520   533   710   239     5]\n",
      " [ 1564  5275  2983   314    16]\n",
      " [  105   624  4291  5011     9]\n",
      " [   24   131  1174 12410   240]\n",
      " [   54    28   812  5523  1995]]\n",
      "\n",
      "\n",
      "              precision    recall  f1-score   support\n",
      "\n",
      "           1       0.89      0.91      0.90     16007\n",
      "           2       0.80      0.52      0.63     10152\n",
      "           3       0.43      0.43      0.43     10040\n",
      "           4       0.53      0.89      0.66     13979\n",
      "           5       0.88      0.24      0.37      8412\n",
      "\n",
      "    accuracy                           0.66     58590\n",
      "   macro avg       0.71      0.60      0.60     58590\n",
      "weighted avg       0.71      0.66      0.64     58590\n",
      "\n"
     ]
    }
   ],
   "source": [
    "print(confusion_matrix(all_test_ys['test_y'], all_test_ys['ensemble_test_y']))\n",
    "print('\\n')\n",
    "print(classification_report(all_test_ys['test_y'], all_test_ys['ensemble_test_y']))"
   ]
  },
  {
   "cell_type": "markdown",
   "metadata": {},
   "source": [
    "Overall Results"
   ]
  },
  {
   "cell_type": "code",
   "execution_count": 203,
   "metadata": {},
   "outputs": [],
   "source": [
    "all_ys_df = pd.DataFrame({'all_y':Y.tolist(), 'all_rf_pred':rf_all_y_pred.tolist(), 'all_xgb_pred':xgb_all_y_pred.tolist()})\n",
    "\n",
    "all_ys_df['all_ensemble_pred'] = all_ys_df.apply(lambda row: prefer_high_freq(row,'all_rf_pred','all_xgb_pred'), axis = 1) "
   ]
  },
  {
   "cell_type": "code",
   "execution_count": 210,
   "metadata": {},
   "outputs": [
    {
     "name": "stdout",
     "output_type": "stream",
     "text": [
      "[[61193  1810   556   117   353]\n",
      " [ 3647 34278  1572   629   482]\n",
      " [  303  5166 25054  9422   215]\n",
      " [   65  1434  4299 48249  1869]\n",
      " [  135   222  1268 10588 21434]]\n",
      "\n",
      "\n",
      "              precision    recall  f1-score   support\n",
      "\n",
      "           1       0.94      0.96      0.95     64029\n",
      "           2       0.80      0.84      0.82     40608\n",
      "           3       0.77      0.62      0.69     40160\n",
      "           4       0.70      0.86      0.77     55916\n",
      "           5       0.88      0.64      0.74     33647\n",
      "\n",
      "    accuracy                           0.81    234360\n",
      "   macro avg       0.82      0.78      0.79    234360\n",
      "weighted avg       0.82      0.81      0.81    234360\n",
      "\n"
     ]
    }
   ],
   "source": [
    "print(confusion_matrix(all_ys_df['all_y'], all_ys_df['all_ensemble_pred']))\n",
    "print('\\n')\n",
    "print(classification_report(all_ys_df['all_y'], all_ys_df['all_ensemble_pred']))"
   ]
  },
  {
   "cell_type": "code",
   "execution_count": 211,
   "metadata": {},
   "outputs": [
    {
     "data": {
      "text/plain": [
       "0.07317073170731707"
      ]
     },
     "execution_count": 211,
     "metadata": {},
     "output_type": "execute_result"
    }
   ],
   "source": [
    "(88-82)/82"
   ]
  },
  {
   "cell_type": "code",
   "execution_count": null,
   "metadata": {},
   "outputs": [],
   "source": []
  },
  {
   "cell_type": "code",
   "execution_count": null,
   "metadata": {},
   "outputs": [],
   "source": []
  },
  {
   "cell_type": "code",
   "execution_count": null,
   "metadata": {},
   "outputs": [],
   "source": [
    "def prefer_high_freq(row, reg_y, rf_y, xgb_y):\n",
    "    \n",
    "    y_list = [row[reg_y], row[rf_y], row[xgb_y]]\n",
    "    \n",
    "    if len(set(y_list)) < len(y_list):\n",
    "        output = max(set(y_list), key = y_list.count) \n",
    "    else:\n",
    "        output = int(round((sum(y_list) / len(y_list)),0))\n",
    "        \n",
    "    return output"
   ]
  },
  {
   "cell_type": "code",
   "execution_count": null,
   "metadata": {},
   "outputs": [],
   "source": [
    "def prefer34(row, reg_y, rf_y, xgb_y):\n",
    "    if any([row[reg_y]==4, row[rf_y]==4, row[xgb_y]==4]):\n",
    "        output = 4\n",
    "    elif any([row[reg_y]==3, row[rf_y]==3, row[xgb_y]==3]):\n",
    "        output = 3\n",
    "    else:\n",
    "        output = round((row[reg_y]+row[rf_y]+row[xgb_y])/3,0).astype(int)\n",
    "    return output"
   ]
  },
  {
   "cell_type": "code",
   "execution_count": null,
   "metadata": {},
   "outputs": [],
   "source": []
  },
  {
   "cell_type": "code",
   "execution_count": null,
   "metadata": {},
   "outputs": [],
   "source": []
  },
  {
   "cell_type": "code",
   "execution_count": null,
   "metadata": {},
   "outputs": [],
   "source": []
  },
  {
   "cell_type": "code",
   "execution_count": null,
   "metadata": {},
   "outputs": [],
   "source": []
  },
  {
   "cell_type": "code",
   "execution_count": null,
   "metadata": {},
   "outputs": [],
   "source": []
  },
  {
   "cell_type": "code",
   "execution_count": null,
   "metadata": {},
   "outputs": [],
   "source": []
  },
  {
   "cell_type": "code",
   "execution_count": null,
   "metadata": {},
   "outputs": [],
   "source": []
  },
  {
   "cell_type": "code",
   "execution_count": null,
   "metadata": {},
   "outputs": [],
   "source": []
  },
  {
   "cell_type": "code",
   "execution_count": null,
   "metadata": {},
   "outputs": [],
   "source": []
  },
  {
   "cell_type": "code",
   "execution_count": null,
   "metadata": {},
   "outputs": [],
   "source": []
  },
  {
   "cell_type": "code",
   "execution_count": null,
   "metadata": {},
   "outputs": [],
   "source": []
  },
  {
   "cell_type": "code",
   "execution_count": null,
   "metadata": {},
   "outputs": [],
   "source": []
  },
  {
   "cell_type": "code",
   "execution_count": null,
   "metadata": {},
   "outputs": [],
   "source": []
  },
  {
   "cell_type": "markdown",
   "metadata": {},
   "source": [
    "- Tuning Order:\n",
    "    - max_depth & min_child_weight\n",
    "    - gamma\n",
    "    - subsample & colsample_bytree\n",
    "    - regularization parameters ('reg_alpha':[0, 0.001, 0.005, 0.01, 0.05])\n",
    "    - reducing Learning rate (learning_rate)"
   ]
  },
  {
   "cell_type": "code",
   "execution_count": 27,
   "metadata": {},
   "outputs": [
    {
     "name": "stderr",
     "output_type": "stream",
     "text": [
      "C:\\Anaconda3\\lib\\site-packages\\xgboost\\sklearn.py:888: UserWarning: The use of label encoder in XGBClassifier is deprecated and will be removed in a future release. To remove this warning, do the following: 1) Pass option use_label_encoder=False when constructing XGBClassifier object; and 2) Encode your labels (y) as integers starting with 0, i.e. 0, 1, 2, ..., [num_class - 1].\n",
      "  warnings.warn(label_encoder_deprecation_msg, UserWarning)\n"
     ]
    },
    {
     "name": "stdout",
     "output_type": "stream",
     "text": [
      "[21:37:08] WARNING: C:/Users/Administrator/workspace/xgboost-win64_release_1.3.0/src/learner.cc:1061: Starting in XGBoost 1.3.0, the default evaluation metric used with the objective 'multi:softprob' was changed from 'merror' to 'mlogloss'. Explicitly set eval_metric if you'd like to restore the old behavior.\n"
     ]
    },
    {
     "data": {
      "text/plain": [
       "GridSearchCV(cv=3,\n",
       "             estimator=XGBClassifier(base_score=None, booster=None,\n",
       "                                     colsample_bylevel=None,\n",
       "                                     colsample_bynode=None,\n",
       "                                     colsample_bytree=0.8, gamma=0.1,\n",
       "                                     gpu_id=None, importance_type='gain',\n",
       "                                     interaction_constraints=None,\n",
       "                                     learning_rate=0.1, max_delta_step=None,\n",
       "                                     max_depth=None, min_child_weight=None,\n",
       "                                     missing=nan, monotone_constraints=None,\n",
       "                                     n_estimators=500, n_jobs=None, nthread=4,\n",
       "                                     num_class=5, num_parallel_tree=None,\n",
       "                                     objective='multi:softprob',\n",
       "                                     random_state=None, reg_alpha=None,\n",
       "                                     reg_lambda=None, scale_pos_weight=None,\n",
       "                                     seed=72, subsample=0.8, tree_method=None,\n",
       "                                     validate_parameters=None, verbosity=None),\n",
       "             n_jobs=4,\n",
       "             param_grid={'max_depth': [7, 9], 'min_child_weight': [1, 3]},\n",
       "             return_train_score=True, scoring='accuracy')"
      ]
     },
     "execution_count": 27,
     "metadata": {},
     "output_type": "execute_result"
    }
   ],
   "source": [
    "xgb_param_grid1 = {\n",
    "    'max_depth' : [7, 9],\n",
    "    'min_child_weight' : [1, 3]\n",
    "    }\n",
    "\n",
    "xgb_opt_mod1 = xgb.XGBClassifier(#max_depth = 5, # should be between 3-10\n",
    "                                 #min_child_weight = 3, # smaller value for imbalanced\n",
    "                                 gamma = 0.1, # small value 0-0.2\n",
    "                                 subsample = 0.8, # 0.5-0.9\n",
    "                                 colsample_bytree = 0.8, # 0.5-0.9\n",
    "                                 learning_rate = 0.1, \n",
    "                                 n_estimators = 500,\n",
    "                                 objective = 'multi:softprob',\n",
    "                                 nthread = 4,\n",
    "                                 #scale_pos_weight = 1,\n",
    "                                 num_class = 5,\n",
    "                                 seed = 72)\n",
    "\n",
    "xgb_grid_search = GridSearchCV(estimator = xgb_opt_mod1,\n",
    "                               param_grid = xgb_param_grid1,\n",
    "                               scoring = 'accuracy',\n",
    "                               cv = 3,\n",
    "                               n_jobs=4,\n",
    "                               verbose = 0,\n",
    "                               return_train_score = True)\n",
    "\n",
    "xgb_grid_search.fit(X_train, y_train)"
   ]
  },
  {
   "cell_type": "code",
   "execution_count": 21,
   "metadata": {},
   "outputs": [],
   "source": [
    "# Run #1: \n",
    "# 'max_depth' : [3, 5]\n",
    "# 'min_child_weight' : [5, 8, 10]\n",
    "# best_params: {'max_depth': 5, 'min_child_weight': 5}\n",
    "\n",
    "# Run #2: \n",
    "# 'max_depth' : [5, 7]\n",
    "# 'min_child_weight' : [3, 5, 6]\n",
    "# best_params: {'max_depth': 7, 'min_child_weight': 3}\n",
    "\n",
    "# Run #3: \n",
    "# 'max_depth' : [7, 9]\n",
    "# 'min_child_weight' : [1, 3]\n",
    "# best_params: {'max_depth': 9, 'min_child_weight': 1}"
   ]
  },
  {
   "cell_type": "code",
   "execution_count": null,
   "metadata": {},
   "outputs": [],
   "source": [
    "xgb_grid_search_result1 = [xgb_grid_search.grid_scores_, xgb_grid_search.best_params_, xgb_grid_search.best_score_]"
   ]
  },
  {
   "cell_type": "code",
   "execution_count": 28,
   "metadata": {},
   "outputs": [
    {
     "data": {
      "text/plain": [
       "{'max_depth': 9, 'min_child_weight': 1}"
      ]
     },
     "execution_count": 28,
     "metadata": {},
     "output_type": "execute_result"
    }
   ],
   "source": [
    "xgb_grid_search.best_params_"
   ]
  },
  {
   "cell_type": "code",
   "execution_count": 29,
   "metadata": {},
   "outputs": [
    {
     "data": {
      "text/plain": [
       "0.977442111850714"
      ]
     },
     "execution_count": 29,
     "metadata": {},
     "output_type": "execute_result"
    }
   ],
   "source": [
    "y_xgb_gs_pred_train = xgb_grid_search.best_estimator_.predict(X_train)\n",
    "accuracy_score(y_train, y_xgb_gs_pred_train, normalize=True)"
   ]
  },
  {
   "cell_type": "code",
   "execution_count": 30,
   "metadata": {},
   "outputs": [
    {
     "data": {
      "text/plain": [
       "0.7833930704898446"
      ]
     },
     "execution_count": 30,
     "metadata": {},
     "output_type": "execute_result"
    }
   ],
   "source": [
    "y_xgb_gs_pred = xgb_grid_search.best_estimator_.predict(X_test)\n",
    "accuracy_score(y_test, y_xgb_gs_pred, normalize=True)"
   ]
  },
  {
   "cell_type": "code",
   "execution_count": null,
   "metadata": {},
   "outputs": [],
   "source": []
  },
  {
   "cell_type": "code",
   "execution_count": null,
   "metadata": {},
   "outputs": [],
   "source": []
  },
  {
   "cell_type": "code",
   "execution_count": null,
   "metadata": {},
   "outputs": [],
   "source": []
  },
  {
   "cell_type": "code",
   "execution_count": null,
   "metadata": {},
   "outputs": [],
   "source": []
  },
  {
   "cell_type": "code",
   "execution_count": null,
   "metadata": {},
   "outputs": [],
   "source": []
  },
  {
   "cell_type": "code",
   "execution_count": null,
   "metadata": {},
   "outputs": [],
   "source": []
  },
  {
   "cell_type": "code",
   "execution_count": null,
   "metadata": {},
   "outputs": [],
   "source": []
  },
  {
   "cell_type": "code",
   "execution_count": null,
   "metadata": {},
   "outputs": [],
   "source": []
  },
  {
   "cell_type": "code",
   "execution_count": null,
   "metadata": {},
   "outputs": [],
   "source": []
  },
  {
   "cell_type": "code",
   "execution_count": null,
   "metadata": {},
   "outputs": [],
   "source": []
  },
  {
   "cell_type": "code",
   "execution_count": null,
   "metadata": {},
   "outputs": [],
   "source": []
  },
  {
   "cell_type": "code",
   "execution_count": null,
   "metadata": {},
   "outputs": [],
   "source": []
  },
  {
   "cell_type": "code",
   "execution_count": null,
   "metadata": {},
   "outputs": [],
   "source": []
  },
  {
   "cell_type": "code",
   "execution_count": 112,
   "metadata": {},
   "outputs": [],
   "source": [
    "def modelfit(alg, dtrain, predictors, target, useTrainCV=True, cv_folds=5, early_stopping_rounds=50):\n",
    "    \n",
    "    if useTrainCV:\n",
    "        xgb_param = alg.get_xgb_params()\n",
    "        xgtrain = xgb.DMatrix(dtrain[predictors].values, label=dtrain[target].values)\n",
    "        cvresult = xgb.cv(xgb_param, xgtrain, num_boost_round=alg.get_params()['n_estimators'], nfold=cv_folds,\n",
    "            metrics='auc', early_stopping_rounds=early_stopping_rounds, show_progress=False)\n",
    "        alg.set_params(n_estimators=cvresult.shape[0])\n",
    "    \n",
    "    #Fit the algorithm on the data\n",
    "    alg.fit(dtrain[predictors], dtrain['Disbursed'],eval_metric='auc')\n",
    "        \n",
    "    #Predict training set:\n",
    "    dtrain_predictions = alg.predict(dtrain[predictors])\n",
    "    dtrain_predprob = alg.predict_proba(dtrain[predictors])[:,1]\n",
    "        \n",
    "    #Print model report:\n",
    "    print(\"\\nModel Report\")\n",
    "    print(\"Accuracy : %.4g\" % metrics.accuracy_score(dtrain['Disbursed'].values, dtrain_predictions))\n",
    "    print(\"AUC Score (Train): %f\" % metrics.roc_auc_score(dtrain['Disbursed'], dtrain_predprob))\n",
    "                    \n",
    "    feat_imp = pd.Series(alg.booster().get_fscore()).sort_values(ascending=False)\n",
    "    feat_imp.plot(kind='bar', title='Feature Importances')\n",
    "    plt.ylabel('Feature Importance Score')"
   ]
  },
  {
   "cell_type": "code",
   "execution_count": null,
   "metadata": {},
   "outputs": [],
   "source": []
  }
 ],
 "metadata": {
  "kernelspec": {
   "display_name": "Python 3",
   "language": "python",
   "name": "python3"
  },
  "language_info": {
   "codemirror_mode": {
    "name": "ipython",
    "version": 3
   },
   "file_extension": ".py",
   "mimetype": "text/x-python",
   "name": "python",
   "nbconvert_exporter": "python",
   "pygments_lexer": "ipython3",
   "version": "3.7.3"
  }
 },
 "nbformat": 4,
 "nbformat_minor": 4
}
